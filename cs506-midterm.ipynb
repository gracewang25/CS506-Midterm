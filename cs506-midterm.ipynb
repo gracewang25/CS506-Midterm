{
  "cells": [
    {
      "cell_type": "markdown",
      "metadata": {
        "id": "PmrhfKHP-att"
      },
      "source": [
        "# Libraries"
      ]
    },
    {
      "cell_type": "code",
      "execution_count": null,
      "metadata": {
        "id": "vF_l8npm-atv",
        "colab": {
          "base_uri": "https://localhost:8080/"
        },
        "outputId": "32ed3b5a-a058-4178-c2fa-c0031e2c327a"
      },
      "outputs": [
        {
          "output_type": "stream",
          "name": "stdout",
          "text": [
            "Drive already mounted at /content/drive; to attempt to forcibly remount, call drive.mount(\"/content/drive\", force_remount=True).\n"
          ]
        }
      ],
      "source": [
        "import pickle\n",
        "import pandas as pd\n",
        "import seaborn as sns\n",
        "import os\n",
        "from os.path import exists\n",
        "import matplotlib.pyplot as plt\n",
        "from sklearn.neighbors import KNeighborsClassifier\n",
        "from sklearn.model_selection import train_test_split\n",
        "from sklearn.metrics import accuracy_score, confusion_matrix\n",
        "from google.colab import drive\n",
        "\n",
        "# Mount Google Drive\n",
        "drive.mount('/content/drive')\n"
      ]
    },
    {
      "cell_type": "markdown",
      "metadata": {
        "id": "go5xKpef-atv"
      },
      "source": [
        "# Loading the Files\n",
        "\n",
        "Download the csv files into the `data/` directory."
      ]
    },
    {
      "cell_type": "code",
      "execution_count": null,
      "metadata": {
        "id": "yy6ZgQYP-atv",
        "colab": {
          "base_uri": "https://localhost:8080/",
          "height": 1000
        },
        "outputId": "b25ec1a0-80c2-4440-9cdf-1cc9a5c5c6f3"
      },
      "outputs": [
        {
          "output_type": "stream",
          "name": "stdout",
          "text": [
            "train.csv shape is  (1697533, 9)\n",
            "test.csv shape is  (212192, 2)\n",
            "\n",
            "        Id   ProductId          UserId  HelpfulnessNumerator  \\\n",
            "0   914403  B0009W5KHM   AV6QDP8Q0ONK4                     2   \n",
            "1   354887  6303079709  A2I8RXJN80A2D2                     0   \n",
            "2  1407653  B004H0M2XC  A3FHV3RV8Z12E6                     0   \n",
            "3  1377458  B003ZJ9536  A12VLTA3ZHVPUY                     1   \n",
            "4   475323  630574453X  A13NM1PES9OXVN                     2   \n",
            "\n",
            "   HelpfulnessDenominator        Time  \\\n",
            "0                       2  1341014400   \n",
            "1                       0  1168819200   \n",
            "2                       0  1386201600   \n",
            "3                       1  1348704000   \n",
            "4                       3   970012800   \n",
            "\n",
            "                                         Summary  \\\n",
            "0                                  GOOD FUN FILM   \n",
            "1                                   Movie Review   \n",
            "2             When is it a good time to Consent?   \n",
            "3                                          TRUTH   \n",
            "4  Intelligent and bittersweet -- stays with you   \n",
            "\n",
            "                                                Text  Score  \n",
            "0  While most straight to DVD films are not worth...    5.0  \n",
            "1  I have wanted this one for sometime, also.  I ...    5.0  \n",
            "2  Actually this was a pretty darn good indie fil...    4.0  \n",
            "3  Episodes 37 to 72 of the series press on in a ...    5.0  \n",
            "4  I was really impressed with this movie, but wa...    3.0  \n",
            "\n",
            "        Id  Score\n",
            "0  1323432    NaN\n",
            "1  1137299    NaN\n",
            "2  1459366    NaN\n",
            "3   931601    NaN\n",
            "4  1311995    NaN\n",
            "\n",
            "                 Id  HelpfulnessNumerator  HelpfulnessDenominator  \\\n",
            "count  1.697533e+06          1.697533e+06            1.697533e+06   \n",
            "mean   8.487660e+05          3.569048e+00            5.301422e+00   \n",
            "std    4.900357e+05          1.727883e+01            2.024445e+01   \n",
            "min    0.000000e+00          0.000000e+00            0.000000e+00   \n",
            "25%    4.243830e+05          0.000000e+00            0.000000e+00   \n",
            "50%    8.487660e+05          1.000000e+00            1.000000e+00   \n",
            "75%    1.273149e+06          3.000000e+00            5.000000e+00   \n",
            "max    1.697532e+06          6.084000e+03            6.510000e+03   \n",
            "\n",
            "               Time         Score  \n",
            "count  1.697533e+06  1.485341e+06  \n",
            "mean   1.262422e+09  4.110517e+00  \n",
            "std    1.289277e+08  1.197651e+00  \n",
            "min    8.793792e+08  1.000000e+00  \n",
            "25%    1.164413e+09  4.000000e+00  \n",
            "50%    1.307491e+09  5.000000e+00  \n",
            "75%    1.373242e+09  5.000000e+00  \n",
            "max    1.406074e+09  5.000000e+00  \n"
          ]
        },
        {
          "output_type": "display_data",
          "data": {
            "text/plain": [
              "<Figure size 640x480 with 1 Axes>"
            ],
            "image/png": "[encoded data removed]"
          },
          "metadata": {}
        },
        {
          "output_type": "stream",
          "name": "stdout",
          "text": [
            "\n",
            "EVERYTHING IS PROPERLY SET UP! YOU ARE READY TO START\n"
          ]
        }
      ],
      "source": [
        "trainingSet = pd.read_csv('/content/drive/MyDrive/train_final.csv')\n",
        "testingSet = pd.read_csv('/content/drive/MyDrive/test_final.csv')\n",
        "\n",
        "\n",
        "print(\"train.csv shape is \", trainingSet.shape)\n",
        "print(\"test.csv shape is \", testingSet.shape)\n",
        "\n",
        "print()\n",
        "\n",
        "print(trainingSet.head())\n",
        "print()\n",
        "print(testingSet.head())\n",
        "\n",
        "print()\n",
        "\n",
        "print(trainingSet.describe())\n",
        "\n",
        "trainingSet['Score'].value_counts().plot(kind='bar', legend=True, alpha=.5)\n",
        "plt.show()\n",
        "\n",
        "print()\n",
        "print(\"EVERYTHING IS PROPERLY SET UP! YOU ARE READY TO START\")"
      ]
    },
    {
      "cell_type": "markdown",
      "metadata": {
        "id": "DnyygFJl-atw"
      },
      "source": [
        "# Adding Features"
      ]
    },
    {
      "cell_type": "code",
      "execution_count": null,
      "metadata": {
        "id": "70jEXD85-atw"
      },
      "outputs": [],
      "source": [
        "# Check and fill missing columns if necessary\n",
        "for col in ['HelpfulnessNumerator', 'HelpfulnessDenominator']:\n",
        "    if col not in trainingSet.columns:\n",
        "        trainingSet[col] = 0  # Add column with default value\n",
        "    if col not in testingSet.columns:\n",
        "        testingSet[col] = 0  # Add column with default value\n",
        "\n",
        "# Original feature extraction function with Helpfulness calculation\n",
        "def add_features_to(df):\n",
        "    df['Helpfulness'] = df['HelpfulnessNumerator'] / df['HelpfulnessDenominator']\n",
        "    df['Helpfulness'] = df['Helpfulness'].fillna(0)\n",
        "\n",
        "    return df\n",
        "\n",
        "# Apply the feature extraction function to both training and test sets\n",
        "train = add_features_to(trainingSet)\n",
        "test = add_features_to(testingSet)\n",
        "\n",
        "# Function to add user review trends as additional features\n",
        "def add_user_review_trends(df, reference_df):\n",
        "    # Calculate user average score and negative review count from reference data\n",
        "    user_avg_score = reference_df.groupby('Id')['Score'].mean().reset_index()\n",
        "    user_avg_score.columns = ['Id', 'User_Avg_Score']\n",
        "\n",
        "    user_negative_count = reference_df[reference_df['Score'] == 1].groupby('Id').size().reset_index(name='User_Negative_Count')\n",
        "\n",
        "    # Merge these features into the main DataFrame\n",
        "    df = df.merge(user_avg_score, on='Id', how='left')\n",
        "    df = df.merge(user_negative_count, on='Id', how='left')\n",
        "\n",
        "    # Handle NaN values for users not found in reference data\n",
        "    df['User_Avg_Score'] = df['User_Avg_Score'].fillna(df['User_Avg_Score'].mean())\n",
        "    df['User_Negative_Count'] = df['User_Negative_Count'].fillna(0)\n",
        "\n",
        "    # Create a binary feature for multiple negative reviews\n",
        "    df['Multiple_Negative_Reviews'] = (df['User_Negative_Count'] > 1).astype(int)\n",
        "\n",
        "    return df\n",
        "\n",
        "# Apply the new user trend features function to both train and test DataFrames\n",
        "train = add_user_review_trends(train, train)\n",
        "test = add_user_review_trends(test, train)  # Use training data as reference\n",
        "\n",
        "# Merge on Id so that the submission set can have feature columns as well\n",
        "X_submission = pd.merge(train, test, left_on='Id', right_on='Id', suffixes=('', '_test'))\n",
        "X_submission = X_submission.drop(columns=['Score'])  # Drop duplicate Score after merge\n",
        "X_submission = X_submission.rename(columns={'Score_test': 'Score'})\n",
        "\n",
        "# Extract the training set where Score is not null\n",
        "X_train = train[train['Score'].notnull()]\n",
        "\n",
        "# Define paths and save processed data\n",
        "X_train_path = \"/content/drive/MyDrive/data/X_train.csv\"\n",
        "X_submission_path = \"/content/drive/MyDrive/data/X_submission.csv\"\n",
        "\n",
        "os.makedirs('/content/drive/MyDrive/data', exist_ok=True)\n",
        "X_train.to_csv(X_train_path, index=False)\n",
        "X_submission.to_csv(X_submission_path, index=False)\n"
      ]
    },
    {
      "cell_type": "markdown",
      "metadata": {
        "id": "_tmyRkNs-atw"
      },
      "source": [
        "# Sample + Split into training and testing set"
      ]
    },
    {
      "cell_type": "code",
      "execution_count": null,
      "metadata": {
        "id": "W6v_q1uw-atw"
      },
      "outputs": [],
      "source": [
        "# Split training set into training and testing set\n",
        "X_train, X_test, Y_train, Y_test = train_test_split(\n",
        "    X_train.drop(columns=['Score']),\n",
        "    X_train['Score'],\n",
        "    test_size=1/4.0,\n",
        "    random_state=0\n",
        ")"
      ]
    },
    {
      "cell_type": "code",
      "source": [],
      "metadata": {
        "id": "qX2ViFQPCQOw"
      },
      "execution_count": null,
      "outputs": []
    },
    {
      "cell_type": "markdown",
      "metadata": {
        "id": "kfnCHuaY-atw"
      },
      "source": [
        "# Feature Selection"
      ]
    },
    {
      "cell_type": "code",
      "execution_count": null,
      "metadata": {
        "id": "FMDYwnjT-atw"
      },
      "outputs": [],
      "source": [
        "features = [\n",
        "    'HelpfulnessNumerator', 'HelpfulnessDenominator', 'Time', 'Helpfulness',\n",
        "    'User_Avg_Score', 'User_Negative_Count', 'Multiple_Negative_Reviews'\n",
        "]\n",
        "X_train_select = X_train[features]\n",
        "X_test_select = X_test[features]\n",
        "X_submission_select = X_submission[features]"
      ]
    },
    {
      "cell_type": "markdown",
      "metadata": {
        "id": "N9L-9Yzj-atw"
      },
      "source": [
        "# Model Creation"
      ]
    },
    {
      "cell_type": "code",
      "execution_count": null,
      "metadata": {
        "id": "1vhRvdVb-atx"
      },
      "outputs": [],
      "source": [
        "# Learn the model\n",
        "model = KNeighborsClassifier(n_neighbors=3).fit(X_train_select, Y_train)\n",
        "\n",
        "# Predict the score using the model\n",
        "Y_test_predictions = model.predict(X_test_select)"
      ]
    },
    {
      "cell_type": "markdown",
      "metadata": {
        "id": "E20wPtpU-atx"
      },
      "source": [
        "# Model Evaluation"
      ]
    },
    {
      "cell_type": "code",
      "execution_count": null,
      "metadata": {
        "id": "QC372uqT-atx",
        "colab": {
          "base_uri": "https://localhost:8080/",
          "height": 489
        },
        "outputId": "ccaa6baf-db6e-47de-fc92-d487ebdb5f60"
      },
      "outputs": [
        {
          "output_type": "stream",
          "name": "stdout",
          "text": [
            "Accuracy on testing set = 0.8154824740935434\n"
          ]
        },
        {
          "output_type": "display_data",
          "data": {
            "text/plain": [
              "<Figure size 640x480 with 2 Axes>"
            ],
            "image/png": "[encoded data removed]"
          },
          "metadata": {}
        }
      ],
      "source": [
        "# Model Evaluation for LightGBM\n",
        "from sklearn.metrics import accuracy_score, confusion_matrix\n",
        "import seaborn as sns\n",
        "import matplotlib.pyplot as plt\n",
        "\n",
        "# Evaluate your model on the testing set\n",
        "print(\"Accuracy on testing set =\", accuracy_score(Y_test, Y_test_predictions))\n",
        "\n",
        "# Plot a confusion matrix\n",
        "cm = confusion_matrix(Y_test, Y_test_predictions, normalize='true')\n",
        "sns.heatmap(cm, annot=True)\n",
        "plt.title('Confusion Matrix of KNN Classifier')\n",
        "plt.xlabel('Predicted')\n",
        "plt.ylabel('True')\n",
        "plt.show()\n"
      ]
    },
    {
      "cell_type": "markdown",
      "metadata": {
        "id": "cypWvrEh-atx"
      },
      "source": [
        "# Create submission file"
      ]
    },
    {
      "cell_type": "code",
      "execution_count": null,
      "metadata": {
        "id": "kb4QqLd8-atx",
        "colab": {
          "base_uri": "https://localhost:8080/"
        },
        "outputId": "849c4040-2abd-41de-c74c-d26728966b5f"
      },
      "outputs": [
        {
          "output_type": "stream",
          "name": "stdout",
          "text": [
            "Submission file created at /content/drive/MyDrive/data/submission.csv\n"
          ]
        }
      ],
      "source": [
        "# Prepare the submission file with predictions on X_submission_select\n",
        "Y_submission_predictions = model.predict(X_submission_select)\n",
        "\n",
        "submission_df = pd.DataFrame({\n",
        "    'Id': X_submission['Id'],\n",
        "    'Score': Y_submission_predictions\n",
        "})\n",
        "submission_df.to_csv('/content/drive/MyDrive/data/submission.csv', index=False)\n",
        "print(\"Submission file created at /content/drive/MyDrive/data/submission.csv\")\n"
      ]
    }
  ],
  "metadata": {
    "kernelspec": {
      "display_name": "env",
      "language": "python",
      "name": "python3"
    },
    "language_info": {
      "codemirror_mode": {
        "name": "ipython",
        "version": 3
      },
      "file_extension": ".py",
      "mimetype": "text/x-python",
      "name": "python",
      "nbconvert_exporter": "python",
      "pygments_lexer": "ipython3",
      "version": "3.12.3"
    },
    "colab": {
      "provenance": []
    }
  },
  "nbformat": 4,
  "nbformat_minor": 0
}